{
 "cells": [
  {
   "cell_type": "code",
   "execution_count": 1,
   "id": "130438bb-00d7-45d2-b452-5f93433f2729",
   "metadata": {},
   "outputs": [],
   "source": [
    "import numpy as np\n",
    "import pandas as pd\n",
    "from sklearn.model_selection import train_test_split, GridSearchCV, cross_val_score\n",
    "from sklearn.linear_model import LinearRegression, LogisticRegression\n",
    "from sklearn.metrics import mean_squared_error, r2_score, accuracy_score, roc_curve, roc_auc_score\n",
    "from sklearn.impute import SimpleImputer\n",
    "from sklearn.preprocessing import StandardScaler\n",
    "from sklearn.ensemble import RandomForestClassifier, AdaBoostClassifier, GradientBoostingClassifier\n",
    "from sklearn.model_selection import learning_curve\n",
    "from sklearn.tree import DecisionTreeClassifier\n",
    "from sklearn.svm import SVC\n",
    "from sklearn.neighbors import KNeighborsClassifier\n",
    "import xgboost as xgb\n",
    "import matplotlib.pyplot as plt\n",
    "import joblib"
   ]
  },
  {
   "cell_type": "code",
   "execution_count": 2,
   "id": "832d744c-4218-45ed-9963-cd19702baec8",
   "metadata": {},
   "outputs": [
    {
     "name": "stdout",
     "output_type": "stream",
     "text": [
      "   Humedad del suelo  Temperatura   Humedad  Necesidad_Riego\n",
      "0          11.236204    30.904533  3.736408              1.0\n",
      "1          28.521429    32.101535  3.329121              1.0\n",
      "2          21.959818    37.818211  1.761539              1.0\n",
      "3          17.959755    30.100066  6.072667              1.0\n",
      "4           4.680559    38.044745  4.766242              1.0\n"
     ]
    }
   ],
   "source": [
    "import pandas as pd\n",
    "import numpy as np\n",
    "\n",
    "# Generar datos sintéticos\n",
    "np.random.seed(42)  # Para reproducibilidad\n",
    "\n",
    "num_samples = 5000  # Número de muestras para cada clase\n",
    "\n",
    "# Generar datos para necesidad de riego igual a 1\n",
    "humedad_suelo_1 = np.random.uniform(0, 30, num_samples)\n",
    "temperatura_1 = np.random.uniform(25, 40, num_samples)\n",
    "humedad_1 = np.random.uniform(0, 10, num_samples)  # Cambiado de precipitacion a humedad\n",
    "necesidad_riego_1 = np.ones(num_samples)\n",
    "\n",
    "# Generar datos para necesidad de riego igual a 0\n",
    "humedad_suelo_0 = np.random.uniform(30, 100, num_samples)\n",
    "temperatura_0 = np.random.uniform(10, 25, num_samples)\n",
    "humedad_0 = np.random.uniform(10, 50, num_samples)  # Cambiado de precipitacion a humedad\n",
    "necesidad_riego_0 = np.zeros(num_samples)\n",
    "\n",
    "# Concatenar los datos\n",
    "humedad_suelo = np.concatenate([humedad_suelo_1, humedad_suelo_0])\n",
    "temperatura = np.concatenate([temperatura_1, temperatura_0])\n",
    "humedad = np.concatenate([humedad_1, humedad_0])  # Cambiado de precipitacion a humedad\n",
    "necesidad_riego = np.concatenate([necesidad_riego_1, necesidad_riego_0])\n",
    "\n",
    "# Crear DataFrame\n",
    "dataset = pd.DataFrame({\n",
    "    'Humedad del suelo': humedad_suelo,\n",
    "    'Temperatura': temperatura,\n",
    "    'Humedad': humedad,  # Cambiado de precipitacion a humedad\n",
    "    'Necesidad_Riego': necesidad_riego\n",
    "})\n",
    "\n",
    "# Mostrar las primeras filas del dataset\n",
    "print(dataset.head())\n"
   ]
  },
  {
   "cell_type": "code",
   "execution_count": 3,
   "id": "bef210ea-5ba2-4b61-977d-8b73b0c6af55",
   "metadata": {},
   "outputs": [
    {
     "data": {
      "text/html": [
       "<div>\n",
       "<style scoped>\n",
       "    .dataframe tbody tr th:only-of-type {\n",
       "        vertical-align: middle;\n",
       "    }\n",
       "\n",
       "    .dataframe tbody tr th {\n",
       "        vertical-align: top;\n",
       "    }\n",
       "\n",
       "    .dataframe thead th {\n",
       "        text-align: right;\n",
       "    }\n",
       "</style>\n",
       "<table border=\"1\" class=\"dataframe\">\n",
       "  <thead>\n",
       "    <tr style=\"text-align: right;\">\n",
       "      <th></th>\n",
       "      <th>Humedad del suelo</th>\n",
       "      <th>Temperatura</th>\n",
       "      <th>Humedad</th>\n",
       "      <th>Necesidad_Riego</th>\n",
       "    </tr>\n",
       "  </thead>\n",
       "  <tbody>\n",
       "    <tr>\n",
       "      <th>0</th>\n",
       "      <td>11.236204</td>\n",
       "      <td>30.904533</td>\n",
       "      <td>3.736408</td>\n",
       "      <td>1.0</td>\n",
       "    </tr>\n",
       "    <tr>\n",
       "      <th>1</th>\n",
       "      <td>28.521429</td>\n",
       "      <td>32.101535</td>\n",
       "      <td>3.329121</td>\n",
       "      <td>1.0</td>\n",
       "    </tr>\n",
       "    <tr>\n",
       "      <th>2</th>\n",
       "      <td>21.959818</td>\n",
       "      <td>37.818211</td>\n",
       "      <td>1.761539</td>\n",
       "      <td>1.0</td>\n",
       "    </tr>\n",
       "    <tr>\n",
       "      <th>3</th>\n",
       "      <td>17.959755</td>\n",
       "      <td>30.100066</td>\n",
       "      <td>6.072667</td>\n",
       "      <td>1.0</td>\n",
       "    </tr>\n",
       "    <tr>\n",
       "      <th>4</th>\n",
       "      <td>4.680559</td>\n",
       "      <td>38.044745</td>\n",
       "      <td>4.766242</td>\n",
       "      <td>1.0</td>\n",
       "    </tr>\n",
       "    <tr>\n",
       "      <th>...</th>\n",
       "      <td>...</td>\n",
       "      <td>...</td>\n",
       "      <td>...</td>\n",
       "      <td>...</td>\n",
       "    </tr>\n",
       "    <tr>\n",
       "      <th>9995</th>\n",
       "      <td>91.392704</td>\n",
       "      <td>14.912305</td>\n",
       "      <td>48.091018</td>\n",
       "      <td>0.0</td>\n",
       "    </tr>\n",
       "    <tr>\n",
       "      <th>9996</th>\n",
       "      <td>33.276977</td>\n",
       "      <td>20.904495</td>\n",
       "      <td>39.912968</td>\n",
       "      <td>0.0</td>\n",
       "    </tr>\n",
       "    <tr>\n",
       "      <th>9997</th>\n",
       "      <td>51.258893</td>\n",
       "      <td>23.849111</td>\n",
       "      <td>10.778235</td>\n",
       "      <td>0.0</td>\n",
       "    </tr>\n",
       "    <tr>\n",
       "      <th>9998</th>\n",
       "      <td>61.032400</td>\n",
       "      <td>19.559285</td>\n",
       "      <td>26.040194</td>\n",
       "      <td>0.0</td>\n",
       "    </tr>\n",
       "    <tr>\n",
       "      <th>9999</th>\n",
       "      <td>42.058537</td>\n",
       "      <td>24.277578</td>\n",
       "      <td>20.295919</td>\n",
       "      <td>0.0</td>\n",
       "    </tr>\n",
       "  </tbody>\n",
       "</table>\n",
       "<p>10000 rows × 4 columns</p>\n",
       "</div>"
      ],
      "text/plain": [
       "      Humedad del suelo  Temperatura    Humedad  Necesidad_Riego\n",
       "0             11.236204    30.904533   3.736408              1.0\n",
       "1             28.521429    32.101535   3.329121              1.0\n",
       "2             21.959818    37.818211   1.761539              1.0\n",
       "3             17.959755    30.100066   6.072667              1.0\n",
       "4              4.680559    38.044745   4.766242              1.0\n",
       "...                 ...          ...        ...              ...\n",
       "9995          91.392704    14.912305  48.091018              0.0\n",
       "9996          33.276977    20.904495  39.912968              0.0\n",
       "9997          51.258893    23.849111  10.778235              0.0\n",
       "9998          61.032400    19.559285  26.040194              0.0\n",
       "9999          42.058537    24.277578  20.295919              0.0\n",
       "\n",
       "[10000 rows x 4 columns]"
      ]
     },
     "execution_count": 3,
     "metadata": {},
     "output_type": "execute_result"
    }
   ],
   "source": [
    "dataset"
   ]
  },
  {
   "cell_type": "code",
   "execution_count": 4,
   "id": "da505265-7fdd-42e3-830b-02f26357aae1",
   "metadata": {},
   "outputs": [
    {
     "data": {
      "text/plain": [
       "Necesidad_Riego\n",
       "1.0    5000\n",
       "0.0    5000\n",
       "Name: count, dtype: int64"
      ]
     },
     "execution_count": 4,
     "metadata": {},
     "output_type": "execute_result"
    }
   ],
   "source": [
    "dataset['Necesidad_Riego'].value_counts()"
   ]
  },
  {
   "cell_type": "code",
   "execution_count": 5,
   "id": "c886b45a-1af6-43ba-b78e-67abafca9edc",
   "metadata": {},
   "outputs": [],
   "source": [
    "# Seleccionar características relevantes y la variable objetivo\n",
    "X = dataset.drop('Necesidad_Riego', axis=1)\n",
    "y = dataset['Necesidad_Riego']"
   ]
  },
  {
   "cell_type": "code",
   "execution_count": 6,
   "id": "a094a7d5-c961-45a1-b7c6-de07fc86b954",
   "metadata": {},
   "outputs": [
    {
     "data": {
      "text/html": [
       "<div>\n",
       "<style scoped>\n",
       "    .dataframe tbody tr th:only-of-type {\n",
       "        vertical-align: middle;\n",
       "    }\n",
       "\n",
       "    .dataframe tbody tr th {\n",
       "        vertical-align: top;\n",
       "    }\n",
       "\n",
       "    .dataframe thead th {\n",
       "        text-align: right;\n",
       "    }\n",
       "</style>\n",
       "<table border=\"1\" class=\"dataframe\">\n",
       "  <thead>\n",
       "    <tr style=\"text-align: right;\">\n",
       "      <th></th>\n",
       "      <th>Humedad del suelo</th>\n",
       "      <th>Temperatura</th>\n",
       "      <th>Humedad</th>\n",
       "    </tr>\n",
       "  </thead>\n",
       "  <tbody>\n",
       "    <tr>\n",
       "      <th>0</th>\n",
       "      <td>11.236204</td>\n",
       "      <td>30.904533</td>\n",
       "      <td>3.736408</td>\n",
       "    </tr>\n",
       "    <tr>\n",
       "      <th>1</th>\n",
       "      <td>28.521429</td>\n",
       "      <td>32.101535</td>\n",
       "      <td>3.329121</td>\n",
       "    </tr>\n",
       "    <tr>\n",
       "      <th>2</th>\n",
       "      <td>21.959818</td>\n",
       "      <td>37.818211</td>\n",
       "      <td>1.761539</td>\n",
       "    </tr>\n",
       "    <tr>\n",
       "      <th>3</th>\n",
       "      <td>17.959755</td>\n",
       "      <td>30.100066</td>\n",
       "      <td>6.072667</td>\n",
       "    </tr>\n",
       "    <tr>\n",
       "      <th>4</th>\n",
       "      <td>4.680559</td>\n",
       "      <td>38.044745</td>\n",
       "      <td>4.766242</td>\n",
       "    </tr>\n",
       "    <tr>\n",
       "      <th>...</th>\n",
       "      <td>...</td>\n",
       "      <td>...</td>\n",
       "      <td>...</td>\n",
       "    </tr>\n",
       "    <tr>\n",
       "      <th>9995</th>\n",
       "      <td>91.392704</td>\n",
       "      <td>14.912305</td>\n",
       "      <td>48.091018</td>\n",
       "    </tr>\n",
       "    <tr>\n",
       "      <th>9996</th>\n",
       "      <td>33.276977</td>\n",
       "      <td>20.904495</td>\n",
       "      <td>39.912968</td>\n",
       "    </tr>\n",
       "    <tr>\n",
       "      <th>9997</th>\n",
       "      <td>51.258893</td>\n",
       "      <td>23.849111</td>\n",
       "      <td>10.778235</td>\n",
       "    </tr>\n",
       "    <tr>\n",
       "      <th>9998</th>\n",
       "      <td>61.032400</td>\n",
       "      <td>19.559285</td>\n",
       "      <td>26.040194</td>\n",
       "    </tr>\n",
       "    <tr>\n",
       "      <th>9999</th>\n",
       "      <td>42.058537</td>\n",
       "      <td>24.277578</td>\n",
       "      <td>20.295919</td>\n",
       "    </tr>\n",
       "  </tbody>\n",
       "</table>\n",
       "<p>10000 rows × 3 columns</p>\n",
       "</div>"
      ],
      "text/plain": [
       "      Humedad del suelo  Temperatura    Humedad\n",
       "0             11.236204    30.904533   3.736408\n",
       "1             28.521429    32.101535   3.329121\n",
       "2             21.959818    37.818211   1.761539\n",
       "3             17.959755    30.100066   6.072667\n",
       "4              4.680559    38.044745   4.766242\n",
       "...                 ...          ...        ...\n",
       "9995          91.392704    14.912305  48.091018\n",
       "9996          33.276977    20.904495  39.912968\n",
       "9997          51.258893    23.849111  10.778235\n",
       "9998          61.032400    19.559285  26.040194\n",
       "9999          42.058537    24.277578  20.295919\n",
       "\n",
       "[10000 rows x 3 columns]"
      ]
     },
     "execution_count": 6,
     "metadata": {},
     "output_type": "execute_result"
    }
   ],
   "source": [
    "X"
   ]
  },
  {
   "cell_type": "code",
   "execution_count": 7,
   "id": "752b4898-d72c-47e1-8281-bb6ea721a832",
   "metadata": {},
   "outputs": [
    {
     "data": {
      "text/plain": [
       "0       1.0\n",
       "1       1.0\n",
       "2       1.0\n",
       "3       1.0\n",
       "4       1.0\n",
       "       ... \n",
       "9995    0.0\n",
       "9996    0.0\n",
       "9997    0.0\n",
       "9998    0.0\n",
       "9999    0.0\n",
       "Name: Necesidad_Riego, Length: 10000, dtype: float64"
      ]
     },
     "execution_count": 7,
     "metadata": {},
     "output_type": "execute_result"
    }
   ],
   "source": [
    "y"
   ]
  },
  {
   "cell_type": "code",
   "execution_count": 8,
   "id": "7db38eb8-4edc-418f-8608-4af6ffe0b516",
   "metadata": {},
   "outputs": [],
   "source": [
    "X_train, X_test, y_train, y_test = train_test_split(X, y, test_size=0.2, random_state=42)"
   ]
  },
  {
   "cell_type": "code",
   "execution_count": 9,
   "id": "e40e63ca-9459-4abe-8ec8-6db21691c52d",
   "metadata": {},
   "outputs": [],
   "source": [
    "scaler = StandardScaler()\n",
    "X_train_scaled = scaler.fit_transform(X_train)\n",
    "X_test_scaled = scaler.transform(X_test)"
   ]
  },
  {
   "cell_type": "code",
   "execution_count": 10,
   "id": "7858af98-9483-498f-b983-74ff2ac136c0",
   "metadata": {},
   "outputs": [],
   "source": [
    "new_data = [\n",
    "    [8.732141, 34.219789, 1.967897],\n",
    "    [2.677887, 39.839265, 5.604003],\n",
    "    [7.144075, 39.236507, 7.986547],\n",
    "    [5.398732, 32.409821, 7.286596],\n",
    "    [35.824697, 31.477896, 7.891387],\n",
    "    [43.162348, 24.111322, 19.085674],\n",
    "    [74.963215, 22.987143, 17.143556],\n",
    "    [23.189734, 24.325891, 19.987634],\n",
    "    [52.437651, 21.876321, 18.651234],\n",
    "    [4.862537, 31.098475, 4.472985]\n",
    "]"
   ]
  },
  {
   "cell_type": "code",
   "execution_count": 11,
   "id": "83cca199-0e16-4b77-b5e3-7e0b85d7dda1",
   "metadata": {},
   "outputs": [
    {
     "name": "stdout",
     "output_type": "stream",
     "text": [
      "1.0\n",
      "Accuracy: 1.0\n",
      "MSE: 0.0\n",
      "Predicción para new_data[0] (0: No regar, 1: Regar): 1.0\n",
      "Predicción para new_data[1] (0: No regar, 1: Regar): 1.0\n",
      "Predicción para new_data[2] (0: No regar, 1: Regar): 1.0\n",
      "Predicción para new_data[3] (0: No regar, 1: Regar): 1.0\n",
      "Predicción para new_data[4] (0: No regar, 1: Regar): 0.0\n",
      "Predicción para new_data[5] (0: No regar, 1: Regar): 0.0\n",
      "Predicción para new_data[6] (0: No regar, 1: Regar): 0.0\n",
      "Predicción para new_data[7] (0: No regar, 1: Regar): 0.0\n",
      "Predicción para new_data[8] (0: No regar, 1: Regar): 0.0\n",
      "Predicción para new_data[9] (0: No regar, 1: Regar): 1.0\n"
     ]
    }
   ],
   "source": [
    "# Entrenamiento\n",
    "model = LogisticRegression(random_state=42)\n",
    "model.fit(X_train_scaled, y_train)\n",
    "puntuacion = model.score(X_train_scaled, y_train)\n",
    "print(puntuacion)\n",
    "joblib.dump(model, 'modelo_entrenado.pkl') # Guardo el modelo.\n",
    "y_pred = model.predict(X_test_scaled)\n",
    "accuracy = accuracy_score(y_test, y_pred)\n",
    "print(f\"Accuracy: {accuracy}\")\n",
    "mse = mean_squared_error(y_test, y_pred)\n",
    "print(f'MSE: {mse}')\n",
    "# Para predecir si se necesita regar usando nuevos datos\n",
    "\n",
    "predictions = model.predict(new_data)\n",
    "for i, pred in enumerate(predictions):\n",
    "    print(f\"Predicción para new_data[{i}] (0: No regar, 1: Regar): {pred}\")"
   ]
  },
  {
   "cell_type": "code",
   "execution_count": 12,
   "id": "0f82b2ce-19b1-44cf-9057-f927909a9781",
   "metadata": {},
   "outputs": [],
   "source": [
    "model = joblib.load('modelo_entrenado.pkl') # Carga del modelo."
   ]
  },
  {
   "cell_type": "code",
   "execution_count": 13,
   "id": "3a065055-9c3e-49c8-86c2-5b0f0d1e3034",
   "metadata": {},
   "outputs": [
    {
     "data": {
      "text/plain": [
       "1.0"
      ]
     },
     "execution_count": 13,
     "metadata": {},
     "output_type": "execute_result"
    }
   ],
   "source": [
    "model.score(X_train_scaled, y_train)"
   ]
  },
  {
   "cell_type": "code",
   "execution_count": null,
   "id": "4065f39f-1135-40a7-b85e-a017234a9dce",
   "metadata": {},
   "outputs": [],
   "source": []
  }
 ],
 "metadata": {
  "kernelspec": {
   "display_name": "Python 3 (ipykernel)",
   "language": "python",
   "name": "python3"
  },
  "language_info": {
   "codemirror_mode": {
    "name": "ipython",
    "version": 3
   },
   "file_extension": ".py",
   "mimetype": "text/x-python",
   "name": "python",
   "nbconvert_exporter": "python",
   "pygments_lexer": "ipython3",
   "version": "3.11.3"
  }
 },
 "nbformat": 4,
 "nbformat_minor": 5
}
